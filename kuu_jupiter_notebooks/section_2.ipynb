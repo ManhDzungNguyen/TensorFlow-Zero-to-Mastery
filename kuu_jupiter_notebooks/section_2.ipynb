{
 "cells": [
  {
   "attachments": {},
   "cell_type": "markdown",
   "metadata": {},
   "source": [
    "# Section 2"
   ]
  },
  {
   "attachments": {},
   "cell_type": "markdown",
   "metadata": {},
   "source": [
    "## TensorFlow fundamentals"
   ]
  },
  {
   "cell_type": "code",
   "execution_count": 1,
   "metadata": {},
   "outputs": [
    {
     "data": {
      "text/plain": [
       "'2.9.0'"
      ]
     },
     "execution_count": 1,
     "metadata": {},
     "output_type": "execute_result"
    }
   ],
   "source": [
    "import tensorflow as tf\n",
    "import tensorflow_probability as tfp\n",
    "import numpy as np\n",
    "\n",
    "tf.__version__"
   ]
  },
  {
   "cell_type": "code",
   "execution_count": 4,
   "metadata": {},
   "outputs": [
    {
     "name": "stdout",
     "output_type": "stream",
     "text": [
      "tf.Tensor(7, shape=(), dtype=int32)\n",
      "0\n"
     ]
    }
   ],
   "source": [
    "scalar = tf.constant(7)\n",
    "print(scalar)\n",
    "print(scalar.ndim)"
   ]
  },
  {
   "cell_type": "code",
   "execution_count": 46,
   "metadata": {},
   "outputs": [
    {
     "data": {
      "text/plain": [
       "<tf.Tensor: shape=(3, 2), dtype=int32, numpy=\n",
       "array([[ 2,  5],\n",
       "       [10,  7],\n",
       "       [ 3,  4]])>"
      ]
     },
     "execution_count": 46,
     "metadata": {},
     "output_type": "execute_result"
    }
   ],
   "source": [
    "not_shuffled = tf.constant([[10, 7],\n",
    "                            [3, 4],\n",
    "                            [2, 5]])\n",
    "# Gets different results each time\n",
    "tf.random.set_seed(5) # global level random seed\n",
    "tf.random.shuffle(not_shuffled, seed=10) # operation level random seed"
   ]
  },
  {
   "cell_type": "code",
   "execution_count": 13,
   "metadata": {},
   "outputs": [
    {
     "data": {
      "text/plain": [
       "<tf.Tensor: shape=(2, 2, 1), dtype=int32, numpy=\n",
       "array([[[2],\n",
       "        [3]],\n",
       "\n",
       "       [[4],\n",
       "        [5]]])>"
      ]
     },
     "execution_count": 13,
     "metadata": {},
     "output_type": "execute_result"
    }
   ],
   "source": [
    "rank_2_tensor = tf.constant([[2, 3],\n",
    "                             [4, 5]])\n",
    "# rank_3_tensor = rank_2_tensor[...,tf.newaxis]\n",
    "rank_3_tensor = tf.expand_dims(rank_2_tensor, axis=-1)\n",
    "rank_3_tensor\n"
   ]
  },
  {
   "cell_type": "code",
   "execution_count": 23,
   "metadata": {},
   "outputs": [
    {
     "data": {
      "text/plain": [
       "<tf.Tensor: shape=(2, 2), dtype=int32, numpy=\n",
       "array([[ 58,  64],\n",
       "       [139, 154]])>"
      ]
     },
     "execution_count": 23,
     "metadata": {},
     "output_type": "execute_result"
    }
   ],
   "source": [
    "tensor_1 = tf.constant([[1, 2, 3],\n",
    "                        [4, 5, 6]])\n",
    "tensor_2 = tf.constant([[7, 8],\n",
    "                        [9, 10],\n",
    "                        [11, 12]])\n",
    "\n",
    "tf.matmul(tensor_1, tensor_2) # the same with 'tf.linalg.matmul(tensor_1, tensor_2)' and 'tensor_1 @ tensor_2'\n",
    "tf.tensordot(tensor_1, tensor_2, axes=1)"
   ]
  },
  {
   "cell_type": "code",
   "execution_count": 28,
   "metadata": {},
   "outputs": [
    {
     "name": "stdout",
     "output_type": "stream",
     "text": [
      "tf.Tensor(\n",
      "[[1 2]\n",
      " [3 4]\n",
      " [5 6]], shape=(3, 2), dtype=int32) \n",
      "\n",
      "tf.Tensor(\n",
      "[[1 4]\n",
      " [2 5]\n",
      " [3 6]], shape=(3, 2), dtype=int32)\n"
     ]
    }
   ],
   "source": [
    "print(tf.reshape(tensor_1, (3,2)),'\\n')\n",
    "print(tf.transpose(tensor_1))"
   ]
  },
  {
   "cell_type": "code",
   "execution_count": 30,
   "metadata": {},
   "outputs": [
    {
     "data": {
      "text/plain": [
       "<tf.Tensor: shape=(2, 3), dtype=float16, numpy=\n",
       "array([[1., 2., 3.],\n",
       "       [4., 5., 6.]], dtype=float16)>"
      ]
     },
     "execution_count": 30,
     "metadata": {},
     "output_type": "execute_result"
    }
   ],
   "source": [
    "# Changing the datatype of tensors\n",
    "tf.cast(tensor_1, dtype=tf.float16)"
   ]
  },
  {
   "cell_type": "code",
   "execution_count": 37,
   "metadata": {},
   "outputs": [
    {
     "data": {
      "text/plain": [
       "<tf.Tensor: shape=(50,), dtype=int32, numpy=\n",
       "array([ 8, 24, 67, 87, 79, 48, 10, 94, 52, 98, 53, 66, 98, 14, 34, 24, 15,\n",
       "       60, 58, 16,  9, 93, 86,  2, 27,  4, 31,  1, 13, 83,  4, 91, 59, 67,\n",
       "        7, 49, 47, 65, 61, 14, 55, 71, 80,  2, 94, 19, 98, 63, 53, 27])>"
      ]
     },
     "execution_count": 37,
     "metadata": {},
     "output_type": "execute_result"
    }
   ],
   "source": [
    "np.random.seed(42)\n",
    "E = tf.constant(np.random.randint(0, 100, size=50))\n",
    "E"
   ]
  },
  {
   "cell_type": "code",
   "execution_count": 61,
   "metadata": {},
   "outputs": [
    {
     "name": "stdout",
     "output_type": "stream",
     "text": [
      "tf.Tensor(1, shape=(), dtype=int32)\n",
      "tf.Tensor(98, shape=(), dtype=int32)\n",
      "tf.Tensor(47, shape=(), dtype=int32)\n",
      "tf.Tensor(2380, shape=(), dtype=int32) \n",
      "\n",
      "tf.Tensor(1001.64, shape=(), dtype=float32)\n",
      "tf.Tensor(31.648697, shape=(), dtype=float32) \n",
      "\n",
      "tf.Tensor(1002, shape=(), dtype=int32)\n",
      "tf.Tensor(31.648697, shape=(), dtype=float32)\n"
     ]
    }
   ],
   "source": [
    "print(tf.reduce_min(E))\n",
    "print(tf.reduce_max(E))\n",
    "print(tf.reduce_mean(E))\n",
    "print(tf.reduce_sum(E), '\\n')\n",
    "\n",
    "print(tf.math.reduce_variance(tf.cast(E, dtype=tf.float32)))\n",
    "print(tf.math.reduce_std(tf.cast(E, dtype=tf.float32)), '\\n')\n",
    "\n",
    "print(tfp.stats.variance(E))\n",
    "print(tfp.stats.stddev(tf.cast(E, dtype=tf.float32)))\n"
   ]
  },
  {
   "cell_type": "code",
   "execution_count": 62,
   "metadata": {},
   "outputs": [
    {
     "data": {
      "text/plain": [
       "<tf.Tensor: shape=(50,), dtype=float32, numpy=\n",
       "array([0.24900055, 0.48465526, 0.39165282, 0.8218267 , 0.23590696,\n",
       "       0.39270067, 0.96157587, 0.7378106 , 0.3086977 , 0.7820475 ,\n",
       "       0.36411405, 0.43852115, 0.39143312, 0.4100443 , 0.15650964,\n",
       "       0.16554844, 0.11952579, 0.99199855, 0.07539165, 0.69944966,\n",
       "       0.3041743 , 0.6850517 , 0.95208406, 0.65089023, 0.48965216,\n",
       "       0.64302886, 0.50323474, 0.37081254, 0.50158453, 0.65716815,\n",
       "       0.42388284, 0.6438379 , 0.7099544 , 0.8554728 , 0.10746086,\n",
       "       0.1302582 , 0.74147284, 0.7842232 , 0.16333139, 0.18595266,\n",
       "       0.47453701, 0.6588017 , 0.9707295 , 0.62733424, 0.40020967,\n",
       "       0.9673735 , 0.13458717, 0.6554717 , 0.4056772 , 0.18046606],\n",
       "      dtype=float32)>"
      ]
     },
     "execution_count": 62,
     "metadata": {},
     "output_type": "execute_result"
    }
   ],
   "source": [
    "tf.random.set_seed(42)\n",
    "F = tf.random.uniform(shape=[50])\n",
    "F"
   ]
  },
  {
   "cell_type": "code",
   "execution_count": 66,
   "metadata": {},
   "outputs": [
    {
     "name": "stdout",
     "output_type": "stream",
     "text": [
      "tf.Tensor(17, shape=(), dtype=int64)\n",
      "tf.Tensor(0.99199855, shape=(), dtype=float32)\n",
      "tf.Tensor(0.99199855, shape=(), dtype=float32)\n"
     ]
    }
   ],
   "source": [
    "# Finding the positional maximum of a tensor\n",
    "print(tf.argmax(F))\n",
    "print(F[tf.argmax(F)])\n",
    "print(tf.reduce_max(F))"
   ]
  },
  {
   "cell_type": "code",
   "execution_count": 4,
   "metadata": {},
   "outputs": [
    {
     "data": {
      "text/plain": [
       "<tf.Tensor: shape=(3, 3), dtype=int32, numpy=\n",
       "array([[149,  58,  55],\n",
       "       [ 58,  25,  26],\n",
       "       [ 55,  26,  29]])>"
      ]
     },
     "execution_count": 4,
     "metadata": {},
     "output_type": "execute_result"
    }
   ],
   "source": [
    "A = tf.constant([[10, 7],\n",
    "                 [3, 4],\n",
    "                 [2, 5]])\n",
    "A_t = tf.transpose(A)\n",
    "tf.matmul(A, A_t)"
   ]
  },
  {
   "cell_type": "code",
   "execution_count": null,
   "metadata": {},
   "outputs": [],
   "source": []
  }
 ],
 "metadata": {
  "kernelspec": {
   "display_name": "ds_ai",
   "language": "python",
   "name": "python3"
  },
  "language_info": {
   "codemirror_mode": {
    "name": "ipython",
    "version": 3
   },
   "file_extension": ".py",
   "mimetype": "text/x-python",
   "name": "python",
   "nbconvert_exporter": "python",
   "pygments_lexer": "ipython3",
   "version": "3.8.16"
  },
  "orig_nbformat": 4,
  "vscode": {
   "interpreter": {
    "hash": "b32813cd66b77696715d8469d78e12f3febd17513ba29916d9ac7b0cd358d31e"
   }
  }
 },
 "nbformat": 4,
 "nbformat_minor": 2
}
